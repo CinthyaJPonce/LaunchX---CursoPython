{
 "cells": [
  {
   "cell_type": "code",
   "execution_count": null,
   "metadata": {},
   "outputs": [],
   "source": []
  },
  {
   "cell_type": "markdown",
   "metadata": {},
   "source": [
    "# Módulo 1: KATA 1"
   ]
  },
  {
   "cell_type": "markdown",
   "metadata": {},
   "source": [
    "## Primer Progama: Fecha de hoy"
   ]
  },
  {
   "cell_type": "code",
   "execution_count": 22,
   "metadata": {},
   "outputs": [
    {
     "name": "stdout",
     "output_type": "stream",
     "text": [
      "Today is: 2022-02-10\n"
     ]
    }
   ],
   "source": [
    "from datetime import date\n",
    "date.today()\n",
    "print(\"Today is: \"+ str(date.today()))"
   ]
  },
  {
   "cell_type": "markdown",
   "metadata": {},
   "source": [
    "## Convertidor de Unidades"
   ]
  },
  {
   "cell_type": "code",
   "execution_count": 31,
   "metadata": {},
   "outputs": [
    {
     "name": "stdout",
     "output_type": "stream",
     "text": [
      "4.0 parsec, is 13.04624 lightyears\n"
     ]
    }
   ],
   "source": [
    "\n",
    "parsec = float(input(\"Introduce la cantidad de parsecs que quieras convertir a light years: \"))\n",
    "#Me pareció más conveniente arreglarlo de manera en que se puedan introducir los numeros que uno quiera y que no haya problema en que si es int, si es float,\n",
    "#para así se pueda realmente convertir cualquier cantidad deseada a lightyears\n",
    "\n",
    "lightyears = 3.26156 * parsec\n",
    "\n",
    "print(str(float(parsec)) + \" parsec, is \" + str(float(lightyears)) + \" lightyears\")"
   ]
  }
 ],
 "metadata": {
  "interpreter": {
   "hash": "2ff1ff23c4bb0ee308fb716c30689db9408b7efbbd78deea0bd51ad90536c7db"
  },
  "kernelspec": {
   "display_name": "Python 3.10.2 64-bit",
   "language": "python",
   "name": "python3"
  },
  "language_info": {
   "codemirror_mode": {
    "name": "ipython",
    "version": 3
   },
   "file_extension": ".py",
   "mimetype": "text/x-python",
   "name": "python",
   "nbconvert_exporter": "python",
   "pygments_lexer": "ipython3",
   "version": "3.10.2"
  },
  "orig_nbformat": 4
 },
 "nbformat": 4,
 "nbformat_minor": 2
}
