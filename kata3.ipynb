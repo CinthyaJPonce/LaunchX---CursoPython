{
 "cells": [
  {
   "cell_type": "markdown",
   "metadata": {},
   "source": [
    "# Modulo 3: KATA 3"
   ]
  },
  {
   "cell_type": "markdown",
   "metadata": {},
   "source": [
    "## Ejercicio 1: Mensaje de Advertencia"
   ]
  },
  {
   "cell_type": "code",
   "execution_count": 5,
   "metadata": {},
   "outputs": [
    {
     "name": "stdout",
     "output_type": "stream",
     "text": [
      "El asteroide se acerca demasiado rápido\n"
     ]
    }
   ],
   "source": [
    "asteroide = 49\n",
    "\n",
    "if asteroide > 25:\n",
    "    print('El asteroide se acerca demasiado rápido')\n",
    "else:\n",
    "    print('El asteroide viaja a una velocidad no alarmante')"
   ]
  },
  {
   "cell_type": "markdown",
   "metadata": {},
   "source": [
    "## Ejercicio 2\n"
   ]
  },
  {
   "cell_type": "code",
   "execution_count": 6,
   "metadata": {},
   "outputs": [
    {
     "name": "stdout",
     "output_type": "stream",
     "text": [
      "Nada de que preocuparse\n"
     ]
    }
   ],
   "source": [
    "asteroide = 19\n",
    "\n",
    "if asteroide > 20:\n",
    "    print('Hay un esteroide en el cielo ¡mira!')\n",
    "\n",
    "elif asteroide == 20:\n",
    "    print('Hay un esteroide en el cielo ¡mira!')\n",
    "\n",
    "else: \n",
    "    print('Nada nuevo')"
   ]
  },
  {
   "cell_type": "markdown",
   "metadata": {},
   "source": [
    "## Ejercicio 3: Operadores and y or"
   ]
  },
  {
   "cell_type": "code",
   "execution_count": 3,
   "metadata": {},
   "outputs": [
    {
     "name": "stdout",
     "output_type": "stream",
     "text": [
      "La velocidad del asteroide es: 12564.0\n",
      "El tamaño del asteroide es: 789654123.0\n",
      "¡Cuidado se acerca un asteroide muy peligroso\n"
     ]
    }
   ],
   "source": [
    "# me parece un poco más conveniente trabajar con tipo flotante ya que todos los datos que se ingresen no siempre serán enteros\n",
    "velocidadAsteroide = float(input())\n",
    "tamanoAsteroide = float(input())\n",
    "print(\"La velocidad del asteroide es: \" + str(velocidadAsteroide))\n",
    "print(\"El tamaño del asteroide es: \" + str(tamanoAsteroide))\n",
    "\n",
    "if velocidadAsteroide > 25 and tamanoAsteroide >25:\n",
    "    print(\"¡Cuidado se acerca un asteroide muy peligroso!\")\n",
    "\n",
    "elif velocidadAsteroide > 20:\n",
    "    print(\"¡Hay una luz en el cielo!\")\n",
    "\n",
    "elif velocidadAsteroide < 20 or tamanoAsteroide < 25:\n",
    "    print(\"Nada de que preocuparse\")\n",
    "\n",
    "else:\n",
    "    print(\"Nada nuevo\")\n",
    "\n"
   ]
  },
  {
   "cell_type": "code",
   "execution_count": null,
   "metadata": {},
   "outputs": [],
   "source": []
  }
 ],
 "metadata": {
  "interpreter": {
   "hash": "2ff1ff23c4bb0ee308fb716c30689db9408b7efbbd78deea0bd51ad90536c7db"
  },
  "kernelspec": {
   "display_name": "Python 3.10.2 64-bit",
   "language": "python",
   "name": "python3"
  },
  "language_info": {
   "codemirror_mode": {
    "name": "ipython",
    "version": 3
   },
   "file_extension": ".py",
   "mimetype": "text/x-python",
   "name": "python",
   "nbconvert_exporter": "python",
   "pygments_lexer": "ipython3",
   "version": "3.10.2"
  },
  "orig_nbformat": 4
 },
 "nbformat": 4,
 "nbformat_minor": 2
}
