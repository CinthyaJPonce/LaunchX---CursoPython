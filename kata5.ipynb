{
 "cells": [
  {
   "cell_type": "markdown",
   "metadata": {},
   "source": [
    "# Modulo 5: KATA 5"
   ]
  },
  {
   "cell_type": "markdown",
   "metadata": {},
   "source": [
    "## Ejercicio 1: Utilizar Operadores Aritmeticos"
   ]
  },
  {
   "cell_type": "code",
   "execution_count": 8,
   "metadata": {},
   "outputs": [
    {
     "name": "stdout",
     "output_type": "stream",
     "text": [
      "628949330\n",
      "390577533.93\n"
     ]
    }
   ],
   "source": [
    "distanciaTierra = 149597870 #km\n",
    "distanciaJupiter = 778547200 #km\n",
    "\n",
    "distanciaPlanetas_km = distanciaTierra - distanciaJupiter\n",
    "print(abs(distanciaPlanetas_km))\n",
    "\n",
    "distanciaPlanetas_mi = distanciaPlanetas_km * 0.621\n",
    "print(abs(distanciaPlanetas_mi))\n",
    "\n"
   ]
  },
  {
   "cell_type": "markdown",
   "metadata": {},
   "source": [
    "## Ejercicio 2: Convierte cadenas en números y usa valores absolutos"
   ]
  },
  {
   "cell_type": "code",
   "execution_count": 19,
   "metadata": {},
   "outputs": [
    {
     "name": "stdout",
     "output_type": "stream",
     "text": [
      "Distancia apartir del sol al planeta 1: 57900000\n",
      "Distancia apartir del sol al planeta 2: \t108200000\n"
     ]
    }
   ],
   "source": [
    "\n",
    "planeta1 = input('Introduzca la distancia del sol al planeta 1 en km: ')\n",
    "planeta2 = input('Introduzca la distancia desde el sol al planeta 2 en km: ')\n",
    "print(\"Distancia apartir del sol al planeta 1: \" + planeta1)\n",
    "print(\"Distancia apartir del sol al planeta 2: \" + planeta2)\n"
   ]
  },
  {
   "cell_type": "code",
   "execution_count": 20,
   "metadata": {},
   "outputs": [
    {
     "name": "stdout",
     "output_type": "stream",
     "text": [
      "La distancia entre planetas en km =\n",
      "50300000\n",
      "La distancia entre planetas en mi =\n",
      "31236300.0\n"
     ]
    }
   ],
   "source": [
    "planeta1 = int(planeta1)\n",
    "planeta2 = int(planeta2)\n",
    "\n",
    "\n",
    "distanciaPlanetasKM = planeta1 - planeta2\n",
    "print(\"La distancia entre planetas en km =\")\n",
    "print(abs(distanciaPlanetasKM))\n",
    "\n",
    "distanciaPlanetasMI = distanciaPlanetasKM * 0.621\n",
    "print(\"La distancia entre planetas en mi =\")\n",
    "print(abs(distanciaPlanetasMI))"
   ]
  }
 ],
 "metadata": {
  "interpreter": {
   "hash": "2ff1ff23c4bb0ee308fb716c30689db9408b7efbbd78deea0bd51ad90536c7db"
  },
  "kernelspec": {
   "display_name": "Python 3.10.2 64-bit",
   "language": "python",
   "name": "python3"
  },
  "language_info": {
   "codemirror_mode": {
    "name": "ipython",
    "version": 3
   },
   "file_extension": ".py",
   "mimetype": "text/x-python",
   "name": "python",
   "nbconvert_exporter": "python",
   "pygments_lexer": "ipython3",
   "version": "3.10.2"
  },
  "orig_nbformat": 4
 },
 "nbformat": 4,
 "nbformat_minor": 2
}
